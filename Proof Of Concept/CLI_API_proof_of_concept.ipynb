{
 "cells": [
  {
   "cell_type": "code",
   "execution_count": 1,
   "metadata": {},
   "outputs": [],
   "source": [
    "from framework import *"
   ]
  },
  {
   "cell_type": "code",
   "execution_count": 2,
   "metadata": {},
   "outputs": [
    {
     "name": "stdout",
     "output_type": "stream",
     "text": [
      "Loading datasets...\n"
     ]
    },
    {
     "name": "stderr",
     "output_type": "stream",
     "text": [
      "Processing: 100%|██████████| 10/10 [00:02<00:00,  4.94it/s]\n"
     ]
    },
    {
     "name": "stdout",
     "output_type": "stream",
     "text": [
      "Datasets loaded\n",
      "\n",
      "Metric 'Location' set with need: 'Luxembourg'.\n",
      "\n",
      "Evaluating the satisfaction percentage for each input metric...\n"
     ]
    },
    {
     "name": "stderr",
     "output_type": "stream",
     "text": [
      "Processing: 100%|██████████| 10/10 [00:02<00:00,  4.95it/s]"
     ]
    },
    {
     "name": "stdout",
     "output_type": "stream",
     "text": [
      "Evaluation completed\n",
      "\n",
      "Top '5' datasets:\n",
      "1: EuroSat_MS - Avg. Satisfaction: 100.00%,\n",
      "           Usage-Defined: 100%,\n",
      "           Open-Availability: 100%,\n",
      "           Metadata-Completeness: 100%\n",
      "\n",
      "2: EuroSat_RGB - Avg. Satisfaction: 100.00%,\n",
      "           Usage-Defined: 100%,\n",
      "           Open-Availability: 100%,\n",
      "           Metadata-Completeness: 100%\n",
      "\n",
      "3: BigEarthNet - Avg. Satisfaction: 100.00%,\n",
      "           Usage-Defined: 100%,\n",
      "           Open-Availability: 100%,\n",
      "           Metadata-Completeness: 100%\n",
      "\n",
      "4: Sen-2 LULC Dataset - Avg. Satisfaction: 0.00%,\n",
      "           Usage-Defined: 100%,\n",
      "           Open-Availability: 100%,\n",
      "           Metadata-Completeness: 100%\n",
      "\n",
      "5: SEN12MS (triplet) - Avg. Satisfaction: 0.00%,\n",
      "           Usage-Defined: 100%,\n",
      "           Open-Availability: 100%,\n",
      "           Metadata-Completeness: 100%\n",
      "\n"
     ]
    },
    {
     "name": "stderr",
     "output_type": "stream",
     "text": [
      "\n"
     ]
    }
   ],
   "source": [
    "# The Expert User initiates the session by invoking the Framework’s initialisation\n",
    "framework = Framework()\n",
    "\n",
    "# The Expert User issues a command to load datasets from a yaml file by calling\n",
    "framework.load_datasets_from_yaml('./datasets.yaml')\n",
    "\n",
    "# The Expert User sets the evaluation metric Location with specific requirement Luxembourg by using\n",
    "framework.set_metric(\"Location\", \"Luxembourg\")\n",
    "\n",
    "# The Expert User triggers the evaluation process through the evaluate() method\n",
    "final_result = framework.evaluate_metrics()\n",
    "\n",
    "# The Expert User requests CSV file that contains the result of the evaluation using\n",
    "framework.create_csv_from_metrics('./ final_result.csv', final_result)\n",
    "\n",
    "# The Expert User requests a report of the top 5 datasets by executing\n",
    "output = framework.report(5,'./ final_result.csv')"
   ]
  },
  {
   "cell_type": "code",
   "execution_count": 3,
   "metadata": {},
   "outputs": [],
   "source": [
    "from cli import *"
   ]
  },
  {
   "cell_type": "code",
   "execution_count": 4,
   "metadata": {},
   "outputs": [
    {
     "name": "stdout",
     "output_type": "stream",
     "text": [
      "Loading datasets...\n"
     ]
    },
    {
     "name": "stderr",
     "output_type": "stream",
     "text": [
      "Processing: 100%|██████████| 10/10 [00:02<00:00,  4.95it/s]\n"
     ]
    },
    {
     "name": "stdout",
     "output_type": "stream",
     "text": [
      "Datasets loaded\n",
      "\n",
      "Importing the input metrics...\n"
     ]
    },
    {
     "name": "stderr",
     "output_type": "stream",
     "text": [
      "Processing: 100%|██████████| 10/10 [00:01<00:00,  9.83it/s]\n"
     ]
    },
    {
     "name": "stdout",
     "output_type": "stream",
     "text": [
      "Input metrics loaded\n",
      "\n",
      "Checking correctness of input metrics...\n"
     ]
    },
    {
     "name": "stderr",
     "output_type": "stream",
     "text": [
      "Processing: 100%|██████████| 10/10 [00:01<00:00,  9.83it/s]\n"
     ]
    },
    {
     "name": "stdout",
     "output_type": "stream",
     "text": [
      "Metrics checked to retain only those that can be evaluated\n",
      "\n",
      "\n",
      "Now proceeding to the evaluation of the metrics set for the loaded datasets.\n",
      "Evaluating the satisfaction percentage for each input metric...\n"
     ]
    },
    {
     "name": "stderr",
     "output_type": "stream",
     "text": [
      "Processing: 100%|██████████| 10/10 [00:02<00:00,  4.96it/s]\n"
     ]
    },
    {
     "name": "stdout",
     "output_type": "stream",
     "text": [
      "Evaluation completed\n",
      "\n",
      "\n",
      "Now proceeding to the reporting of the results.\n",
      "Top '3' datasets:\n",
      "1: EuroSat_MS - Avg. Satisfaction: 100.00%,\n",
      "           Usage-Defined: 100%,\n",
      "           Open-Availability: 100%,\n",
      "           Metadata-Completeness: 100%\n",
      "\n",
      "2: EuroSat_RGB - Avg. Satisfaction: 100.00%,\n",
      "           Usage-Defined: 100%,\n",
      "           Open-Availability: 100%,\n",
      "           Metadata-Completeness: 100%\n",
      "\n",
      "3: BigEarthNet - Avg. Satisfaction: 100.00%,\n",
      "           Usage-Defined: 100%,\n",
      "           Open-Availability: 100%,\n",
      "           Metadata-Completeness: 100%\n",
      "\n"
     ]
    }
   ],
   "source": [
    "# The user initiates the session by invoking the CLI initialisation\n",
    "cli = CLI()\n",
    "# The user starts the CLI application by calling\n",
    "cli.run()"
   ]
  }
 ],
 "metadata": {
  "kernelspec": {
   "display_name": "Python 3",
   "language": "python",
   "name": "python3"
  },
  "language_info": {
   "codemirror_mode": {
    "name": "ipython",
    "version": 3
   },
   "file_extension": ".py",
   "mimetype": "text/x-python",
   "name": "python",
   "nbconvert_exporter": "python",
   "pygments_lexer": "ipython3",
   "version": "3.11.9"
  }
 },
 "nbformat": 4,
 "nbformat_minor": 2
}
